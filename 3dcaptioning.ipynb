{
 "cells": [
  {
   "cell_type": "code",
   "execution_count": 1,
   "metadata": {},
   "outputs": [],
   "source": [
    "import pandas \n",
    "import numpy as np\n",
    "import os\n",
    "import re\n",
    "import operator\n",
    "from PIL import Image\n",
    "import torch\n",
    "import torch.nn as nn\n",
    "import torch.optim as optim\n",
    "from data import *\n",
    "from constants import *\n",
    "from models import *\n",
    "from solver import *\n",
    "import matplotlib.pyplot as plt"
   ]
  },
  {
   "cell_type": "code",
   "execution_count": 2,
   "metadata": {},
   "outputs": [],
   "source": [
    "os.environ[\"CUDA_VISIBLE_DEVICES\"]=\"2\"\n",
    "os.environ[\"CUDA_LAUNCH_BLOCKING\"]=\"1\""
   ]
  },
  {
   "cell_type": "code",
   "execution_count": 3,
   "metadata": {},
   "outputs": [],
   "source": [
    "root = \"/mnt/raid/davech2y/3d_captioning/ShapeNetCore_vol/nrrd_256_filter_div_128_solid/\"\n",
    "captions = pandas.read_csv(\"captions.tablechair.csv\").iloc[:2]\n",
    "visual_contexts = np.load(\"data/visual_context.npy\")\n",
    "# captions = pandas.read_csv(\"captions.tablechair_prep.csv\")"
   ]
  },
  {
   "cell_type": "code",
   "execution_count": 4,
   "metadata": {},
   "outputs": [
    {
     "data": {
      "text/plain": [
       "True"
      ]
     },
     "execution_count": 4,
     "metadata": {},
     "output_type": "execute_result"
    }
   ],
   "source": [
    "captions = Caption(captions)\n",
    "captions.preprocess()\n",
    "captions.tranform()\n",
    "captions.sanity_check()"
   ]
  },
  {
   "cell_type": "code",
   "execution_count": 5,
   "metadata": {},
   "outputs": [
    {
     "data": {
      "text/plain": [
       "['<START> the table is round and has 3 legs . the table is rotating <END>',\n",
       " '<START> the chair is made of plastic and has 4 legs , it is black in colour <END>']"
      ]
     },
     "execution_count": 5,
     "metadata": {},
     "output_type": "execute_result"
    }
   ],
   "source": [
    "captions.preprocessed_csv.description.values.tolist()[:2]"
   ]
  },
  {
   "cell_type": "code",
   "execution_count": 6,
   "metadata": {
    "scrolled": true
   },
   "outputs": [],
   "source": [
    "train_captions = captions.tranformed_csv.iloc[:1]\n",
    "valid_captions = captions.tranformed_csv.iloc[1:2].reset_index(drop=True)"
   ]
  },
  {
   "cell_type": "code",
   "execution_count": 7,
   "metadata": {},
   "outputs": [
    {
     "data": {
      "text/plain": [
       "22"
      ]
     },
     "execution_count": 7,
     "metadata": {},
     "output_type": "execute_result"
    }
   ],
   "source": [
    "captions.dict_word2idx.__len__()"
   ]
  },
  {
   "cell_type": "code",
   "execution_count": 8,
   "metadata": {},
   "outputs": [
    {
     "data": {
      "text/plain": [
       "3.091042453358316"
      ]
     },
     "execution_count": 8,
     "metadata": {},
     "output_type": "execute_result"
    }
   ],
   "source": [
    "np.log(captions.dict_word2idx.__len__())"
   ]
  },
  {
   "cell_type": "code",
   "execution_count": 21,
   "metadata": {},
   "outputs": [],
   "source": [
    "###################################################################\n",
    "#                                                                 #\n",
    "#                                                                 #\n",
    "#                  offline training for encoder                   #\n",
    "#                                                                 #\n",
    "#                                                                 #\n",
    "###################################################################\n",
    "\n",
    "# # prepare the dataloader\n",
    "# shape_transform = transforms.Compose([transforms.Resize(IMAGE_SIZE), transforms.ToTensor()])\n",
    "# shape_train_ds = ShapeDataset(root, train_captions, shape_transform)\n",
    "# shape_train_dl = DataLoader(shape_train_ds, batch_size=10)\n",
    "# shape_valid_ds = ShapeDataset(root, valid_captions, shape_transform)\n",
    "# shape_valid_dl = DataLoader(shape_valid_ds, batch_size=10)\n",
    "# shape_dl = {\n",
    "#     'train': shape_train_dl,\n",
    "#     'valid': shape_valid_dl\n",
    "# }\n",
    "\n",
    "# # load the pretrained encoder\n",
    "# encoder = Encoder().cuda()\n",
    "# optimizer = optim.SGD(encoder.parameters(), lr=0.01)\n",
    "# criterion = nn.CrossEntropyLoss()\n",
    "# encoder_solver = EncoderSolver(optimizer, criterion)\n",
    "\n",
    "# # training\n",
    "# encoder_solver.train(encoder, shape_dl, 10, 1)"
   ]
  },
  {
   "cell_type": "code",
   "execution_count": 22,
   "metadata": {},
   "outputs": [],
   "source": [
    "# # plot the result\n",
    "# epochs = len(encoder_solver.log.keys())\n",
    "# train_losses = [encoder_solver.log[i][\"train_loss\"] for i in range(epochs)]\n",
    "# valid_losses = [encoder_solver.log[i][\"valid_loss\"] for i in range(epochs)]\n",
    "\n",
    "# fig = plt.gcf()\n",
    "# fig.set_size_inches(12,8)\n",
    "# plt.plot(range(1, epochs + 1), train_losses, label=\"train_loss\")\n",
    "# plt.plot(range(1, epochs + 1), valid_losses, label=\"valid_loss\")\n",
    "# plt.xlabel('epoch')\n",
    "# plt.ylabel('loss')\n",
    "# plt.xticks(range(1, epochs + 1))\n",
    "# plt.legend()\n",
    "# plt.show()\n",
    "\n",
    "# # save\n",
    "# fig.savefig(\"data/encoder_curve.png\")"
   ]
  },
  {
   "cell_type": "code",
   "execution_count": 7,
   "metadata": {},
   "outputs": [],
   "source": [
    "###################################################################\n",
    "#                                                                 #\n",
    "#                                                                 #\n",
    "#                  offline training for decoder                   #\n",
    "#              (extracted visual contexts required)               #\n",
    "#                                                                 #\n",
    "###################################################################\n",
    "\n",
    "# caption_train_ds = CaptionDataset(train_context, train_captions.description.values.tolist())\n",
    "# caption_train_dl = DataLoader(caption_train_ds, batch_size=50, shuffle=False)\n",
    "# caption_valid_ds = CaptionDataset(valid_context, valid_captions.description.values.tolist())\n",
    "# caption_valid_dl = DataLoader(caption_valid_ds, batch_size=50, shuffle=False)\n",
    "# caption_dl = {\n",
    "#     \"train\": caption_train_dl,\n",
    "#     \"valid\": caption_valid_dl\n",
    "# }\n",
    "\n",
    "# input_size = captions.dict_word2idx.__len__() + 1\n",
    "# hidden_size = 512\n",
    "# num_layer = 2\n",
    "\n",
    "# decoder = Decoder(input_size, hidden_size, 2).cuda()\n",
    "# decoder_solver = DecoderSolver(optim.RMSprop(decoder.parameters(), lr=0.001), nn.CrossEntropyLoss())\n",
    "\n",
    "# decoder_solver.train(decoder, caption_dl, 10000, 1000)"
   ]
  },
  {
   "cell_type": "code",
   "execution_count": 9,
   "metadata": {
    "scrolled": true
   },
   "outputs": [
    {
     "name": "stdout",
     "output_type": "stream",
     "text": [
      "[epoch 10/100] train_loss: -0.942324, valid_loss: -0.660685, ETA: 1m 6s\n",
      "[epoch 20/100] train_loss: -0.996872, valid_loss: -0.690323, ETA: 0m 14s\n",
      "[epoch 30/100] train_loss: -0.999193, valid_loss: -0.694030, ETA: 0m 52s\n",
      "[epoch 40/100] train_loss: -0.999552, valid_loss: -0.692930, ETA: 0m 42s\n",
      "[epoch 50/100] train_loss: -0.999668, valid_loss: -0.692338, ETA: 0m 6s\n",
      "[epoch 60/100] train_loss: -0.999719, valid_loss: -0.692027, ETA: 0m 4s\n",
      "[epoch 70/100] train_loss: -0.999750, valid_loss: -0.692556, ETA: 0m 3s\n",
      "[epoch 80/100] train_loss: -0.999772, valid_loss: -0.693216, ETA: 0m 11s\n",
      "[epoch 90/100] train_loss: -0.999790, valid_loss: -0.693415, ETA: 0m 6s\n",
      "[epoch 100/100] train_loss: -0.999805, valid_loss: -0.693338, ETA: 0m 0s\n"
     ]
    }
   ],
   "source": [
    "###################################################################\n",
    "#                                                                 #\n",
    "#                                                                 #\n",
    "#                   training for encoder-decoder                  #\n",
    "#                                                                 #\n",
    "#                                                                 #\n",
    "###################################################################\n",
    "\n",
    "# prepare the dataloader\n",
    "transform = transforms.Compose([transforms.Resize(IMAGE_SIZE), transforms.ToTensor()])\n",
    "train_ds = PipelineDataset(root, train_captions, transform)\n",
    "train_dl = DataLoader(train_ds, batch_size=1)\n",
    "valid_ds = PipelineDataset(root, valid_captions, transform)\n",
    "valid_dl = DataLoader(valid_ds, batch_size=1)\n",
    "dataloader = {\n",
    "    'train': train_dl,\n",
    "    'valid': valid_dl\n",
    "}\n",
    "\n",
    "# # load the pretrained encoder\n",
    "# encoder = torch.load(\"data/encoder.pth\").cuda()\n",
    "\n",
    "# initialize the encoder\n",
    "encoder = Encoder().cuda()\n",
    "\n",
    "# define the decoder\n",
    "input_size = captions.dict_word2idx.__len__() + 1\n",
    "hidden_size = 512\n",
    "num_layer = 2\n",
    "decoder = Decoder(input_size, hidden_size, num_layer).cuda()\n",
    "\n",
    "# prepare the training parameters\n",
    "# optimizer = optim.Adam(list(decoder.parameters()) + list(encoder.fc_layer.parameters()), lr=0.001)\n",
    "params = list(decoder.parameters()) + list(encoder.conv_layer.parameters()) + list(encoder.fc_layer.parameters())\n",
    "optimizer = optim.Adam(params, lr=0.0005)\n",
    "# criterion = nn.CrossEntropyLoss()\n",
    "criterion = nn.NLLLoss()\n",
    "epoch = 100\n",
    "verbose = 10\n",
    "\n",
    "# training\n",
    "encoder_decoder_solver = EncoderDecoderSolver(optimizer, criterion)\n",
    "encoder_decoder_solver.train(encoder, decoder, dataloader, epoch, verbose)"
   ]
  },
  {
   "cell_type": "code",
   "execution_count": 10,
   "metadata": {},
   "outputs": [
    {
     "data": {
      "image/png": "[encoded data removed]",
      "text/plain": [
       "<matplotlib.figure.Figure at 0x7fc83a392a20>"
      ]
     },
     "metadata": {},
     "output_type": "display_data"
    }
   ],
   "source": [
    "# plot the result\n",
    "epochs = len(encoder_decoder_solver.log.keys())\n",
    "train_losses = [encoder_decoder_solver.log[i][\"train_loss\"] for i in range(epochs)]\n",
    "valid_losses = [encoder_decoder_solver.log[i][\"valid_loss\"] for i in range(epochs)]\n",
    "\n",
    "fig = plt.gcf()\n",
    "fig.set_size_inches(16,8)\n",
    "plt.plot(range(epochs), train_losses, label=\"train_loss\")\n",
    "plt.plot(range(epochs), valid_losses, label=\"valid_loss\")\n",
    "plt.xlabel('epoch')\n",
    "plt.ylabel('loss')\n",
    "plt.xticks(range(0, epochs + 1, verbose))\n",
    "plt.legend()\n",
    "plt.show()"
   ]
  },
  {
   "cell_type": "code",
   "execution_count": 186,
   "metadata": {},
   "outputs": [],
   "source": [
    "###################################################################\n",
    "#                                                                 #\n",
    "#                                                                 #\n",
    "#       caption generating via encoder-decoder pipeline           #\n",
    "#                                                                 #\n",
    "#                                                                 #\n",
    "###################################################################\n",
    "\n",
    "# initialize the pipeline\n",
    "encoder_path = \"data/encoder_finetuned.pth\"\n",
    "decoder_path = \"data/decoder_finetuned.pth\"\n",
    "encoder_decoder = Pipeline(encoder_path, decoder_path)\n",
    "\n",
    "# prepare the dataloader\n",
    "transform = transforms.Compose([transforms.Resize(IMAGE_SIZE), transforms.ToTensor()])\n",
    "train_ds = PipelineDataset(root, train_captions, transform)\n",
    "dataloader = DataLoader(train_ds, batch_size=1)\n",
    "\n",
    "# caption images\n",
    "descriptions = []\n",
    "for i, (image_inputs, caps, cap_lengths) in enumerate(dataloader):\n",
    "    image_inputs = Variable(image_inputs).cuda()\n",
    "    descriptions += encoder_decoder.generate_text(image_inputs, captions.dict_idx2word, 50)\n",
    "    if i == 2:\n",
    "        break"
   ]
  },
  {
   "cell_type": "code",
   "execution_count": 187,
   "metadata": {},
   "outputs": [
    {
     "data": {
      "text/plain": [
       "['<START> it is narrow console table . it is made from plywood . its size is quite good to place anything on it . it is grey in colour . <END>',\n",
       " '<START> the table is round and has 3 legs . the table is rotating <END>',\n",
       " '<START> the table is round and has 3 legs . the table is rotating <END>']"
      ]
     },
     "execution_count": 187,
     "metadata": {},
     "output_type": "execute_result"
    }
   ],
   "source": [
    "descriptions"
   ]
  }
 ],
 "metadata": {
  "kernelspec": {
   "display_name": "Python 3",
   "language": "python",
   "name": "python3"
  },
  "language_info": {
   "codemirror_mode": {
    "name": "ipython",
    "version": 3
   },
   "file_extension": ".py",
   "mimetype": "text/x-python",
   "name": "python",
   "nbconvert_exporter": "python",
   "pygments_lexer": "ipython3",
   "version": "3.6.4"
  }
 },
 "nbformat": 4,
 "nbformat_minor": 2
}
