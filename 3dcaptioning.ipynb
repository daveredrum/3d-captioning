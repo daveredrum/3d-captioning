{
 "cells": [
  {
   "cell_type": "code",
   "execution_count": 1,
   "metadata": {},
   "outputs": [],
   "source": [
    "import pandas \n",
    "import numpy as np\n",
    "import os\n",
    "import re\n",
    "import operator\n",
    "from PIL import Image\n",
    "import torch\n",
    "import torch.nn as nn\n",
    "import torch.optim as optim\n",
    "from data import *\n",
    "from constants import *\n",
    "from models import *\n",
    "from solver import *\n",
    "import matplotlib.pyplot as plt"
   ]
  },
  {
   "cell_type": "code",
   "execution_count": 2,
   "metadata": {},
   "outputs": [],
   "source": [
    "os.environ[\"CUDA_VISIBLE_DEVICES\"]=\"2\"\n",
    "os.environ[\"CUDA_LAUNCH_BLOCKING\"]=\"1\""
   ]
  },
  {
   "cell_type": "code",
   "execution_count": 18,
   "metadata": {},
   "outputs": [],
   "source": [
    "root = \"/mnt/raid/davech2y/3d_captioning/ShapeNetCore_vol/nrrd_256_filter_div_128_solid/\"\n",
    "captions = pandas.read_csv(\"captions.tablechair.csv\").iloc[:4]\n",
    "visual_contexts = np.load(\"data/visual_context.npy\")\n",
    "# captions = pandas.read_csv(\"captions.tablechair_prep.csv\")"
   ]
  },
  {
   "cell_type": "code",
   "execution_count": 19,
   "metadata": {},
   "outputs": [
    {
     "data": {
      "text/plain": [
       "True"
      ]
     },
     "execution_count": 19,
     "metadata": {},
     "output_type": "execute_result"
    }
   ],
   "source": [
    "captions = Caption(captions)\n",
    "captions.preprocess()\n",
    "captions.tranform()\n",
    "captions.sanity_check()"
   ]
  },
  {
   "cell_type": "code",
   "execution_count": 24,
   "metadata": {
    "scrolled": true
   },
   "outputs": [],
   "source": [
    "train_captions = captions.tranformed_csv.iloc[:2]\n",
    "valid_captions = captions.tranformed_csv.iloc[2:4].reset_index(drop=True)"
   ]
  },
  {
   "cell_type": "code",
   "execution_count": 26,
   "metadata": {},
   "outputs": [
    {
     "data": {
      "text/plain": [
       "['<START> the table is round and has 3 legs . the table is rotating <END>',\n",
       " '<START> the chair is made of plastic and has 4 legs , it is black in colour <END>']"
      ]
     },
     "execution_count": 26,
     "metadata": {},
     "output_type": "execute_result"
    }
   ],
   "source": [
    "captions.preprocessed_csv.description.values.tolist()[:2]"
   ]
  },
  {
   "cell_type": "code",
   "execution_count": 28,
   "metadata": {},
   "outputs": [
    {
     "data": {
      "text/plain": [
       "['<START> it is narrow console table . it is made from plywood . its size is quite good to place anything on it . it is grey in colour .  <END>',\n",
       " '<START> a simple chair with wooden back rest and seating rest . the whole frame of the chair is powder coated stainless steel . it is brown and grey in colour .  <END>']"
      ]
     },
     "execution_count": 28,
     "metadata": {},
     "output_type": "execute_result"
    }
   ],
   "source": [
    "captions.preprocessed_csv.description.values.tolist()[2:4]"
   ]
  },
  {
   "cell_type": "code",
   "execution_count": 22,
   "metadata": {},
   "outputs": [
    {
     "data": {
      "text/plain": [
       "49"
      ]
     },
     "execution_count": 22,
     "metadata": {},
     "output_type": "execute_result"
    }
   ],
   "source": [
    "captions.dict_word2idx.__len__()"
   ]
  },
  {
   "cell_type": "code",
   "execution_count": 23,
   "metadata": {},
   "outputs": [
    {
     "data": {
      "text/plain": [
       "3.8918202981106265"
      ]
     },
     "execution_count": 23,
     "metadata": {},
     "output_type": "execute_result"
    }
   ],
   "source": [
    "np.log(captions.dict_word2idx.__len__())"
   ]
  },
  {
   "cell_type": "code",
   "execution_count": 9,
   "metadata": {},
   "outputs": [],
   "source": [
    "###################################################################\n",
    "#                                                                 #\n",
    "#                                                                 #\n",
    "#                  offline training for encoder                   #\n",
    "#                                                                 #\n",
    "#                                                                 #\n",
    "###################################################################\n",
    "\n",
    "# # prepare the dataloader\n",
    "# shape_transform = transforms.Compose([transforms.Resize(IMAGE_SIZE), transforms.ToTensor()])\n",
    "# shape_train_ds = ShapeDataset(root, train_captions, shape_transform)\n",
    "# shape_train_dl = DataLoader(shape_train_ds, batch_size=10)\n",
    "# shape_valid_ds = ShapeDataset(root, valid_captions, shape_transform)\n",
    "# shape_valid_dl = DataLoader(shape_valid_ds, batch_size=10)\n",
    "# shape_dl = {\n",
    "#     'train': shape_train_dl,\n",
    "#     'valid': shape_valid_dl\n",
    "# }\n",
    "\n",
    "# # load the pretrained encoder\n",
    "# encoder = Encoder().cuda()\n",
    "# optimizer = optim.SGD(encoder.parameters(), lr=0.01)\n",
    "# criterion = nn.CrossEntropyLoss()\n",
    "# encoder_solver = EncoderSolver(optimizer, criterion)\n",
    "\n",
    "# # training\n",
    "# encoder_solver.train(encoder, shape_dl, 10, 1)"
   ]
  },
  {
   "cell_type": "code",
   "execution_count": 10,
   "metadata": {},
   "outputs": [],
   "source": [
    "# # plot the result\n",
    "# epochs = len(encoder_solver.log.keys())\n",
    "# train_losses = [encoder_solver.log[i][\"train_loss\"] for i in range(epochs)]\n",
    "# valid_losses = [encoder_solver.log[i][\"valid_loss\"] for i in range(epochs)]\n",
    "\n",
    "# fig = plt.gcf()\n",
    "# fig.set_size_inches(12,8)\n",
    "# plt.plot(range(1, epochs + 1), train_losses, label=\"train_loss\")\n",
    "# plt.plot(range(1, epochs + 1), valid_losses, label=\"valid_loss\")\n",
    "# plt.xlabel('epoch')\n",
    "# plt.ylabel('loss')\n",
    "# plt.xticks(range(1, epochs + 1))\n",
    "# plt.legend()\n",
    "# plt.show()\n",
    "\n",
    "# # save\n",
    "# fig.savefig(\"data/encoder_curve.png\")"
   ]
  },
  {
   "cell_type": "code",
   "execution_count": 11,
   "metadata": {},
   "outputs": [],
   "source": [
    "###################################################################\n",
    "#                                                                 #\n",
    "#                                                                 #\n",
    "#                  offline training for decoder                   #\n",
    "#              (extracted visual contexts required)               #\n",
    "#                                                                 #\n",
    "###################################################################\n",
    "\n",
    "# caption_train_ds = CaptionDataset(train_context, train_captions.description.values.tolist())\n",
    "# caption_train_dl = DataLoader(caption_train_ds, batch_size=50, shuffle=False)\n",
    "# caption_valid_ds = CaptionDataset(valid_context, valid_captions.description.values.tolist())\n",
    "# caption_valid_dl = DataLoader(caption_valid_ds, batch_size=50, shuffle=False)\n",
    "# caption_dl = {\n",
    "#     \"train\": caption_train_dl,\n",
    "#     \"valid\": caption_valid_dl\n",
    "# }\n",
    "\n",
    "# input_size = captions.dict_word2idx.__len__() + 1\n",
    "# hidden_size = 512\n",
    "# num_layer = 2\n",
    "\n",
    "# decoder = Decoder(input_size, hidden_size, 2).cuda()\n",
    "# decoder_solver = DecoderSolver(optim.RMSprop(decoder.parameters(), lr=0.001), nn.CrossEntropyLoss())\n",
    "\n",
    "# decoder_solver.train(decoder, caption_dl, 10000, 1000)"
   ]
  },
  {
   "cell_type": "code",
   "execution_count": 29,
   "metadata": {
    "scrolled": true
   },
   "outputs": [
    {
     "name": "stdout",
     "output_type": "stream",
     "text": [
      "[epoch 50/500] train_loss: 0.472014, valid_loss: 5.427614, ETA: 8m 1s\n",
      "[epoch 100/500] train_loss: 0.096501, valid_loss: 5.962730, ETA: 2m 56s\n",
      "[epoch 150/500] train_loss: 0.039450, valid_loss: 6.121402, ETA: 8m 50s\n",
      "[epoch 200/500] train_loss: 0.021671, valid_loss: 6.243980, ETA: 4m 6s\n",
      "[epoch 250/500] train_loss: 0.013884, valid_loss: 6.348452, ETA: 4m 51s\n",
      "[epoch 300/500] train_loss: 0.009773, valid_loss: 6.440340, ETA: 4m 48s\n",
      "[epoch 350/500] train_loss: 0.007302, valid_loss: 6.522576, ETA: 2m 15s\n",
      "[epoch 400/500] train_loss: 0.005686, valid_loss: 6.595625, ETA: 2m 15s\n",
      "[epoch 450/500] train_loss: 0.004564, valid_loss: 6.661470, ETA: 1m 11s\n",
      "[epoch 500/500] train_loss: 0.003751, valid_loss: 6.721473, ETA: 0m 0s\n"
     ]
    }
   ],
   "source": [
    "###################################################################\n",
    "#                                                                 #\n",
    "#                                                                 #\n",
    "#                   training for encoder-decoder                  #\n",
    "#                                                                 #\n",
    "#                                                                 #\n",
    "###################################################################\n",
    "\n",
    "# prepare the dataloader\n",
    "transform = transforms.Compose([transforms.Resize(IMAGE_SIZE), transforms.ToTensor()])\n",
    "train_ds = PipelineDataset(root, train_captions, transform)\n",
    "train_dl = DataLoader(train_ds, batch_size=1)\n",
    "valid_ds = PipelineDataset(root, valid_captions, transform)\n",
    "valid_dl = DataLoader(valid_ds, batch_size=1)\n",
    "dataloader = {\n",
    "    'train': train_dl,\n",
    "    'valid': valid_dl\n",
    "}\n",
    "\n",
    "# # load the pretrained encoder\n",
    "# encoder = torch.load(\"data/encoder.pth\").cuda()\n",
    "\n",
    "# initialize the encoder\n",
    "encoder = Encoder().cuda()\n",
    "\n",
    "# define the decoder\n",
    "input_size = captions.dict_word2idx.__len__() + 1\n",
    "hidden_size = 512\n",
    "num_layer = 2\n",
    "decoder = Decoder(input_size, hidden_size, num_layer).cuda()\n",
    "\n",
    "# prepare the training parameters\n",
    "# optimizer = optim.Adam(list(decoder.parameters()) + list(encoder.fc_layer.parameters()), lr=0.001)\n",
    "params = list(decoder.parameters()) + list(encoder.conv_layer.parameters()) + list(encoder.fc_layer.parameters())\n",
    "optimizer = optim.Adam(params, lr=0.0001)\n",
    "criterion = nn.CrossEntropyLoss()\n",
    "# criterion = nn.NLLLoss()\n",
    "epoch = 500\n",
    "verbose = 50\n",
    "\n",
    "# training\n",
    "encoder_decoder_solver = EncoderDecoderSolver(optimizer, criterion)\n",
    "encoder_decoder_solver.train(encoder, decoder, dataloader, epoch, verbose)"
   ]
  },
  {
   "cell_type": "code",
   "execution_count": 30,
   "metadata": {},
   "outputs": [
    {
     "data": {
      "image/png": "[encoded data removed]",
      "text/plain": [
       "<matplotlib.figure.Figure at 0x7f7b6a7d9f60>"
      ]
     },
     "metadata": {},
     "output_type": "display_data"
    }
   ],
   "source": [
    "# plot the result\n",
    "epochs = len(encoder_decoder_solver.log.keys())\n",
    "train_losses = [encoder_decoder_solver.log[i][\"train_loss\"] for i in range(epochs)]\n",
    "valid_losses = [encoder_decoder_solver.log[i][\"valid_loss\"] for i in range(epochs)]\n",
    "\n",
    "fig = plt.gcf()\n",
    "fig.set_size_inches(16,8)\n",
    "plt.plot(range(epochs), train_losses, label=\"train_loss\")\n",
    "plt.plot(range(epochs), valid_losses, label=\"valid_loss\")\n",
    "plt.xlabel('epoch')\n",
    "plt.ylabel('loss')\n",
    "plt.xticks(range(0, epochs + 1, verbose))\n",
    "plt.legend()\n",
    "plt.show()"
   ]
  },
  {
   "cell_type": "code",
   "execution_count": 43,
   "metadata": {},
   "outputs": [],
   "source": [
    "###################################################################\n",
    "#                                                                 #\n",
    "#                                                                 #\n",
    "#       caption generating via encoder-decoder pipeline           #\n",
    "#                                                                 #\n",
    "#                                                                 #\n",
    "###################################################################\n",
    "\n",
    "# initialize the pipeline\n",
    "encoder_path = \"data/encoder_finetuned.pth\"\n",
    "decoder_path = \"data/decoder_finetuned.pth\"\n",
    "encoder_decoder = Pipeline(encoder_path, decoder_path)\n",
    "\n",
    "# prepare the dataloader\n",
    "transform = transforms.Compose([transforms.Resize(IMAGE_SIZE), transforms.ToTensor()])\n",
    "train_ds = PipelineDataset(root, train_captions, transform)\n",
    "dataloader = DataLoader(train_ds, batch_size=1)\n",
    "\n",
    "# caption images\n",
    "descriptions = []\n",
    "for i, (image_inputs, caps, cap_lengths) in enumerate(dataloader):\n",
    "    image_inputs = Variable(image_inputs).cuda()\n",
    "    descriptions += encoder_decoder.generate_text(image_inputs, captions.dict_idx2word, 50)"
   ]
  },
  {
   "cell_type": "code",
   "execution_count": 44,
   "metadata": {},
   "outputs": [
    {
     "data": {
      "text/plain": [
       "['<START> the chair is made of plastic and has 4 legs , it is black in colour <END>',\n",
       " '<START> the table is round and has 3 legs . the table is rotating <END>']"
      ]
     },
     "execution_count": 44,
     "metadata": {},
     "output_type": "execute_result"
    }
   ],
   "source": [
    "descriptions"
   ]
  }
 ],
 "metadata": {
  "kernelspec": {
   "display_name": "Python 3",
   "language": "python",
   "name": "python3"
  },
  "language_info": {
   "codemirror_mode": {
    "name": "ipython",
    "version": 3
   },
   "file_extension": ".py",
   "mimetype": "text/x-python",
   "name": "python",
   "nbconvert_exporter": "python",
   "pygments_lexer": "ipython3",
   "version": "3.6.4"
  }
 },
 "nbformat": 4,
 "nbformat_minor": 2
}
