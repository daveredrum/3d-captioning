{
 "cells": [
  {
   "cell_type": "code",
   "execution_count": 1,
   "metadata": {},
   "outputs": [],
   "source": [
    "import pandas \n",
    "import numpy as np\n",
    "import os\n",
    "from PIL import Image\n",
    "import torch\n",
    "import torch.nn as nn\n",
    "import torch.optim as optim\n",
    "from data import *\n",
    "from constants import *\n",
    "from models import *\n",
    "from solver import *"
   ]
  },
  {
   "cell_type": "code",
   "execution_count": 2,
   "metadata": {},
   "outputs": [],
   "source": [
    "root = \"/mnt/raid/davech2y/3d_captioning/ShapeNetCore_vol/nrrd_256_filter_div_128_solid/\"\n",
    "captions = pandas.read_csv(\"captions.tablechair.csv\")"
   ]
  },
  {
   "cell_type": "code",
   "execution_count": 3,
   "metadata": {},
   "outputs": [],
   "source": [
    "shape_tranform = transforms.Compose([transforms.Resize(IMAGE_SIZE), transforms.ToTensor()])\n",
    "shape_train_ds = ShapeDataset(root, captions.iloc[:500], shape_tranform)\n",
    "shape_train_dl = DataLoader(shape_train_ds, batch_size=10)\n",
    "shape_valid_ds = ShapeDataset(root, captions.iloc[500:600].reset_index(drop=True), shape_tranform)\n",
    "shape_valid_dl = DataLoader(shape_valid_ds, batch_size=10)\n",
    "shape_dl = {\n",
    "    'train': shape_train_dl,\n",
    "    'valid': shape_valid_dl\n",
    "}"
   ]
  },
  {
   "cell_type": "code",
   "execution_count": 4,
   "metadata": {},
   "outputs": [],
   "source": [
    "model = Classifier().cuda()\n",
    "optimizer = optim.SGD(model.parameters(), lr=0.01)\n",
    "criterion = nn.CrossEntropyLoss()\n",
    "solver = Solver(optimizer, criterion)"
   ]
  },
  {
   "cell_type": "code",
   "execution_count": 5,
   "metadata": {
    "scrolled": true
   },
   "outputs": [
    {
     "name": "stdout",
     "output_type": "stream",
     "text": [
      "[epoch 1]: train_loss: 0.693336, train_acc: 0.456000, valid_loss: 0.689146, valid_acc: 0.520000\n",
      "[epoch 2]: train_loss: 0.687695, train_acc: 0.662000, valid_loss: 0.683437, valid_acc: 0.860000\n",
      "[epoch 3]: train_loss: 0.677898, train_acc: 0.894000, valid_loss: 0.670979, valid_acc: 0.940000\n",
      "[epoch 4]: train_loss: 0.651349, train_acc: 0.918000, valid_loss: 0.627078, valid_acc: 0.890000\n",
      "[epoch 5]: train_loss: 0.556553, train_acc: 0.936000, valid_loss: 0.482665, valid_acc: 0.950000\n",
      "[epoch 6]: train_loss: 0.426574, train_acc: 0.944000, valid_loss: 0.401579, valid_acc: 0.940000\n",
      "[epoch 7]: train_loss: 0.381955, train_acc: 0.950000, valid_loss: 0.379528, valid_acc: 0.940000\n",
      "[epoch 8]: train_loss: 0.365867, train_acc: 0.960000, valid_loss: 0.367130, valid_acc: 0.960000\n",
      "[epoch 9]: train_loss: 0.356393, train_acc: 0.972000, valid_loss: 0.359514, valid_acc: 0.960000\n",
      "[epoch 10]: train_loss: 0.350231, train_acc: 0.974000, valid_loss: 0.353702, valid_acc: 0.960000\n"
     ]
    }
   ],
   "source": [
    "solver.train(model, shape_dl, 10)"
   ]
  }
 ],
 "metadata": {
  "kernelspec": {
   "display_name": "Python 3",
   "language": "python",
   "name": "python3"
  },
  "language_info": {
   "codemirror_mode": {
    "name": "ipython",
    "version": 3
   },
   "file_extension": ".py",
   "mimetype": "text/x-python",
   "name": "python",
   "nbconvert_exporter": "python",
   "pygments_lexer": "ipython3",
   "version": "3.6.4"
  }
 },
 "nbformat": 4,
 "nbformat_minor": 2
}
