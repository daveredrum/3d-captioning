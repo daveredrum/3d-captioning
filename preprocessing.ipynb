{
 "cells": [
  {
   "cell_type": "code",
   "execution_count": 1,
   "metadata": {},
   "outputs": [
    {
     "name": "stderr",
     "output_type": "stream",
     "text": [
      "/home/davech2y/anaconda3/lib/python3.6/site-packages/h5py/__init__.py:36: FutureWarning: Conversion of the second argument of issubdtype from `float` to `np.floating` is deprecated. In future, it will be treated as `np.float64 == np.dtype(float).type`.\n",
      "  from ._conv import register_converters as _register_converters\n"
     ]
    }
   ],
   "source": [
    "import numpy as np\n",
    "import os\n",
    "import nrrd\n",
    "import h5py\n",
    "import pandas"
   ]
  },
  {
   "cell_type": "code",
   "execution_count": 2,
   "metadata": {},
   "outputs": [],
   "source": [
    "database_root = \"/mnt/raid/davech2y/ShapeNetCore_vol/\"\n",
    "database_name = \"nrrd_256_filter_div_32_solid.hdf5\"\n",
    "database = h5py.File(os.path.join(database_root, database_name), \"w\")"
   ]
  },
  {
   "cell_type": "code",
   "execution_count": 3,
   "metadata": {},
   "outputs": [],
   "source": [
    "shapenet_root = \"/mnt/raid/davech2y/ShapeNetCore_vol/nrrd_256_filter_div_32_solid/\"\n",
    "shapenet_csv = pandas.read_csv(\"captions.tablechair.csv\")\n",
    "shapenet_shapepath = [\n",
    "    os.path.join(shapenet_root, model_name, model_name + '.nrrd') for model_name in shapenet_csv.modelId.values.tolist()\n",
    "]\n",
    "shapenet_size = len(shapenet_shapepath)\n",
    "shapenet_shape = [3, 32, 32, 32]\n",
    "shapenet_shape_flat = np.prod(shapenet_shape)"
   ]
  },
  {
   "cell_type": "code",
   "execution_count": 4,
   "metadata": {},
   "outputs": [],
   "source": [
    "shapenet_dataset = database.create_dataset(\"shapes\", (shapenet_size, shapenet_shape_flat), dtype=\"float\")\n",
    "# shapenet_database = database[\"shapes\"]"
   ]
  },
  {
   "cell_type": "code",
   "execution_count": 7,
   "metadata": {
    "scrolled": true
   },
   "outputs": [],
   "source": [
    "for i, shapepath in enumerate(shapenet_shapepath):\n",
    "    if i % 100 == 0: \n",
    "        print(\"preprocessed and stored: \", i)\n",
    "    shape, _ = nrrd.read(shapepath)\n",
    "    shape = np.reshape(shape[:3], (-1))\n",
    "    shape = (shape - np.min(shape)) / (np.max(shape) - np.min(shape))\n",
    "    shapenet_dataset[i] = shape"
   ]
  }
 ],
 "metadata": {
  "kernelspec": {
   "display_name": "Python 3",
   "language": "python",
   "name": "python3"
  },
  "language_info": {
   "codemirror_mode": {
    "name": "ipython",
    "version": 3
   },
   "file_extension": ".py",
   "mimetype": "text/x-python",
   "name": "python",
   "nbconvert_exporter": "python",
   "pygments_lexer": "ipython3",
   "version": "3.6.4"
  }
 },
 "nbformat": 4,
 "nbformat_minor": 2
}
